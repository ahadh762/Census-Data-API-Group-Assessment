{
 "cells": [
  {
   "cell_type": "markdown",
   "metadata": {},
   "source": [
    "* [Business Variables List](https://api.census.gov/data/2019/abscb/variables.html) <br/><br/>\n",
    "* [Characteristics of Businesses Documentation (SCROLL DOWN FOR DESCRIPTION TAGS)](https://www2.census.gov/programs-surveys/abs/technical-documentation/api/ABS_API_CB-1-26-2021.pdf)"
   ]
  },
  {
   "cell_type": "code",
   "execution_count": 228,
   "metadata": {},
   "outputs": [
    {
     "data": {
      "text/html": [
       "<div>\n",
       "<style scoped>\n",
       "    .dataframe tbody tr th:only-of-type {\n",
       "        vertical-align: middle;\n",
       "    }\n",
       "\n",
       "    .dataframe tbody tr th {\n",
       "        vertical-align: top;\n",
       "    }\n",
       "\n",
       "    .dataframe thead th {\n",
       "        text-align: right;\n",
       "    }\n",
       "</style>\n",
       "<table border=\"1\" class=\"dataframe\">\n",
       "  <thead>\n",
       "    <tr style=\"text-align: right;\">\n",
       "      <th></th>\n",
       "      <th>NAME</th>\n",
       "      <th>Number of Firms</th>\n",
       "      <th>QDESC</th>\n",
       "      <th>BUSCHAR</th>\n",
       "      <th>Business Characteristic</th>\n",
       "      <th>YEAR</th>\n",
       "      <th>QDESC_LABEL</th>\n",
       "      <th>us</th>\n",
       "    </tr>\n",
       "  </thead>\n",
       "  <tbody>\n",
       "    <tr>\n",
       "      <th>2</th>\n",
       "      <td>United States</td>\n",
       "      <td>0.787775</td>\n",
       "      <td>B02</td>\n",
       "      <td>BM</td>\n",
       "      <td>Family-owned</td>\n",
       "      <td>2018</td>\n",
       "      <td>FAMOWN</td>\n",
       "      <td>1</td>\n",
       "    </tr>\n",
       "    <tr>\n",
       "      <th>3</th>\n",
       "      <td>United States</td>\n",
       "      <td>1.893857</td>\n",
       "      <td>B02</td>\n",
       "      <td>BN</td>\n",
       "      <td>Not family-owned</td>\n",
       "      <td>2018</td>\n",
       "      <td>FAMOWN</td>\n",
       "      <td>1</td>\n",
       "    </tr>\n",
       "  </tbody>\n",
       "</table>\n",
       "</div>"
      ],
      "text/plain": [
       "0           NAME  Number of Firms QDESC BUSCHAR Business Characteristic  YEAR  \\\n",
       "2  United States         0.787775   B02      BM            Family-owned  2018   \n",
       "3  United States         1.893857   B02      BN        Not family-owned  2018   \n",
       "\n",
       "0 QDESC_LABEL us  \n",
       "2      FAMOWN  1  \n",
       "3      FAMOWN  1  "
      ]
     },
     "execution_count": 228,
     "metadata": {},
     "output_type": "execute_result"
    }
   ],
   "source": [
    "# CHARACTERISTICS OF BUSINESSES\n",
    "\n",
    "import pandas as pd\n",
    "import matplotlib as plt\n",
    "# MAKE SURE THERE ARE NO WHITE SPACES IN ANY VARIABLE STRINGS\n",
    "labels = 'NAME,FIRMPDEMP,QDESC,BUSCHAR,BUSCHAR_LABEL,YEAR'\n",
    "\n",
    "data_group = '&for=us'  # FOR ENTIRE USA\n",
    "#data_group = '&for=state' # FOR STATES\n",
    "\n",
    "\n",
    "description =f'&{data_group}*&QDESC_LABEL=FAMOWN'\n",
    "API_key = '&key=1ba63b3df04e1bd07755febe18f836df1b86fc9f'\n",
    "\n",
    "df = pd.read_json(f'https://api.census.gov/data/2018/abscb?get={labels}{data_group}{description}{API_key}')\n",
    "new_header = df.iloc[0] #grab the first row for the header\n",
    "df = df[1:] #take the data after the header row\n",
    "df.columns = new_header #set the header row as the df header\n",
    "df['FIRMPDEMP'] = df['FIRMPDEMP'].astype(int)\n",
    "df = df.loc[(df['BUSCHAR_LABEL']!='Not applicable') & (df['BUSCHAR_LABEL']!='Item not reported') & (df['BUSCHAR_LABEL']!='Total reporting') & (df['BUSCHAR_LABEL']!='All firms')]\n",
    "df['FIRMPDEMP'] = df['FIRMPDEMP'].apply(lambda x:float(x/1_000_000))\n",
    "df = df.rename(columns={'FIRMPDEMP':'Number of Firms', 'BUSCHAR_LABEL':'Business Characteristic'})\n",
    "df"
   ]
  },
  {
   "cell_type": "code",
   "execution_count": 229,
   "metadata": {},
   "outputs": [
    {
     "data": {
      "text/html": [
       "<div>\n",
       "<style scoped>\n",
       "    .dataframe tbody tr th:only-of-type {\n",
       "        vertical-align: middle;\n",
       "    }\n",
       "\n",
       "    .dataframe tbody tr th {\n",
       "        vertical-align: top;\n",
       "    }\n",
       "\n",
       "    .dataframe thead th {\n",
       "        text-align: right;\n",
       "    }\n",
       "</style>\n",
       "<table border=\"1\" class=\"dataframe\">\n",
       "  <thead>\n",
       "    <tr style=\"text-align: right;\">\n",
       "      <th></th>\n",
       "      <th>Business Characteristic</th>\n",
       "      <th>Number of Firms</th>\n",
       "    </tr>\n",
       "  </thead>\n",
       "  <tbody>\n",
       "    <tr>\n",
       "      <th>2</th>\n",
       "      <td>Family-owned</td>\n",
       "      <td>0.787775</td>\n",
       "    </tr>\n",
       "    <tr>\n",
       "      <th>3</th>\n",
       "      <td>Not family-owned</td>\n",
       "      <td>1.893857</td>\n",
       "    </tr>\n",
       "  </tbody>\n",
       "</table>\n",
       "</div>"
      ],
      "text/plain": [
       "0 Business Characteristic  Number of Firms\n",
       "2            Family-owned         0.787775\n",
       "3        Not family-owned         1.893857"
      ]
     },
     "execution_count": 229,
     "metadata": {},
     "output_type": "execute_result"
    },
    {
     "data": {
      "image/png": "[encoded data removed]",
      "text/plain": [
       "<Figure size 432x288 with 1 Axes>"
      ]
     },
     "metadata": {
      "needs_background": "light"
     },
     "output_type": "display_data"
    }
   ],
   "source": [
    "famown = df[['Business Characteristic', 'Number of Firms']]\n",
    "ax= famown.plot.bar(x= 'Business Characteristic', y= 'Number of Firms', title = 'Family Owned vs Not Family Owned')\n",
    "ax.set_xlabel('')\n",
    "ax.set_ylabel('Number of Firms(Millions)')\n",
    "#ax.set_xticklabels(rotation=45)\n",
    "famown"
   ]
  },
  {
   "cell_type": "code",
   "execution_count": 230,
   "metadata": {},
   "outputs": [
    {
     "data": {
      "text/html": [
       "<div>\n",
       "<style scoped>\n",
       "    .dataframe tbody tr th:only-of-type {\n",
       "        vertical-align: middle;\n",
       "    }\n",
       "\n",
       "    .dataframe tbody tr th {\n",
       "        vertical-align: top;\n",
       "    }\n",
       "\n",
       "    .dataframe thead th {\n",
       "        text-align: right;\n",
       "    }\n",
       "</style>\n",
       "<table border=\"1\" class=\"dataframe\">\n",
       "  <thead>\n",
       "    <tr style=\"text-align: right;\">\n",
       "      <th></th>\n",
       "      <th>NAME</th>\n",
       "      <th>EMP</th>\n",
       "      <th>Number of Firms</th>\n",
       "      <th>QDESC</th>\n",
       "      <th>BUSCHAR</th>\n",
       "      <th>Business Characteristic</th>\n",
       "      <th>YEAR</th>\n",
       "      <th>QDESC_LABEL</th>\n",
       "      <th>us</th>\n",
       "    </tr>\n",
       "  </thead>\n",
       "  <tbody>\n",
       "    <tr>\n",
       "      <th>2</th>\n",
       "      <td>United States</td>\n",
       "      <td>60689506</td>\n",
       "      <td>2.715063</td>\n",
       "      <td>B27</td>\n",
       "      <td>LI</td>\n",
       "      <td>Business is currently operating</td>\n",
       "      <td>2018</td>\n",
       "      <td>CEASEOPS</td>\n",
       "      <td>1</td>\n",
       "    </tr>\n",
       "    <tr>\n",
       "      <th>3</th>\n",
       "      <td>United States</td>\n",
       "      <td>1125908</td>\n",
       "      <td>0.133033</td>\n",
       "      <td>B27</td>\n",
       "      <td>LI00</td>\n",
       "      <td>Business operations have ceased</td>\n",
       "      <td>2018</td>\n",
       "      <td>CEASEOPS</td>\n",
       "      <td>1</td>\n",
       "    </tr>\n",
       "    <tr>\n",
       "      <th>5</th>\n",
       "      <td>United States</td>\n",
       "      <td>531118</td>\n",
       "      <td>0.035451</td>\n",
       "      <td>B27</td>\n",
       "      <td>LT</td>\n",
       "      <td>Operating status not reported</td>\n",
       "      <td>2018</td>\n",
       "      <td>CEASEOPS</td>\n",
       "      <td>1</td>\n",
       "    </tr>\n",
       "  </tbody>\n",
       "</table>\n",
       "</div>"
      ],
      "text/plain": [
       "0           NAME       EMP  Number of Firms QDESC BUSCHAR  \\\n",
       "2  United States  60689506         2.715063   B27      LI   \n",
       "3  United States   1125908         0.133033   B27    LI00   \n",
       "5  United States    531118         0.035451   B27      LT   \n",
       "\n",
       "0          Business Characteristic  YEAR QDESC_LABEL us  \n",
       "2  Business is currently operating  2018    CEASEOPS  1  \n",
       "3  Business operations have ceased  2018    CEASEOPS  1  \n",
       "5    Operating status not reported  2018    CEASEOPS  1  "
      ]
     },
     "execution_count": 230,
     "metadata": {},
     "output_type": "execute_result"
    }
   ],
   "source": [
    "# CHARACTERISTICS OF BUSINESSES\n",
    "\n",
    "import pandas as pd\n",
    "import matplotlib as plt\n",
    "import seaborn as sns\n",
    "# MAKE SURE THERE ARE NO WHITE SPACES IN ANY VARIABLE STRINGS\n",
    "labels = 'NAME,EMP,FIRMPDEMP,QDESC,BUSCHAR,BUSCHAR_LABEL,YEAR'\n",
    "\n",
    "data_group = '&for=us'  # FOR ENTIRE USA\n",
    "#data_group = '&for=state' # FOR STATES\n",
    "\n",
    "\n",
    "description =f'&{data_group}*&QDESC_LABEL=CEASEOPS'\n",
    "API_key = '&key=1ba63b3df04e1bd07755febe18f836df1b86fc9f'\n",
    "\n",
    "df = pd.read_json(f'https://api.census.gov/data/2018/abscb?get={labels}{data_group}{description}{API_key}')\n",
    "new_header = df.iloc[0] #grab the first row for the header\n",
    "df = df[1:] #take the data after the header row\n",
    "df.columns = new_header #set the header row as the df header\n",
    "df['FIRMPDEMP'] = df['FIRMPDEMP'].astype(int)\n",
    "df = df.loc[(df['BUSCHAR_LABEL']!='All firms') & (df['BUSCHAR_LABEL']!='Total reporting')]\n",
    "df['FIRMPDEMP'] = df['FIRMPDEMP'].apply(lambda x:float(x/1_000_000))\n",
    "df = df.rename(columns={'FIRMPDEMP':'Number of Firms', 'BUSCHAR_LABEL':'Business Characteristic'})\n",
    "df"
   ]
  },
  {
   "cell_type": "code",
   "execution_count": 231,
   "metadata": {},
   "outputs": [
    {
     "data": {
      "text/plain": [
       "Text(0, 0.5, '')"
      ]
     },
     "execution_count": 231,
     "metadata": {},
     "output_type": "execute_result"
    },
    {
     "data": {
      "image/png": "[encoded data removed]",
      "text/plain": [
       "<Figure size 432x288 with 1 Axes>"
      ]
     },
     "metadata": {
      "needs_background": "light"
     },
     "output_type": "display_data"
    }
   ],
   "source": [
    "ceaseops = df[['Number of Firms', 'Business Characteristic']]\n",
    "ax = sns.barplot(x='Number of Firms', y= 'Business Characteristic', data= ceaseops, orient='h')\n",
    "#ax.set_ylabel('')\n",
    "ax.set_xlabel('Number of Firms (Millions)')\n",
    "ax.set_title(\"Cease Ops\")\n",
    "ax.set_ylabel('')"
   ]
  },
  {
   "cell_type": "code",
   "execution_count": 232,
   "metadata": {},
   "outputs": [
    {
     "data": {
      "text/html": [
       "<div>\n",
       "<style scoped>\n",
       "    .dataframe tbody tr th:only-of-type {\n",
       "        vertical-align: middle;\n",
       "    }\n",
       "\n",
       "    .dataframe tbody tr th {\n",
       "        vertical-align: top;\n",
       "    }\n",
       "\n",
       "    .dataframe thead th {\n",
       "        text-align: right;\n",
       "    }\n",
       "</style>\n",
       "<table border=\"1\" class=\"dataframe\">\n",
       "  <thead>\n",
       "    <tr style=\"text-align: right;\">\n",
       "      <th></th>\n",
       "      <th>NAME</th>\n",
       "      <th>Number of Employees</th>\n",
       "      <th>FIRMPDEMP</th>\n",
       "      <th>QDESC</th>\n",
       "      <th>BUSCHAR</th>\n",
       "      <th>Type of Worker</th>\n",
       "      <th>YEAR</th>\n",
       "      <th>QDESC_LABEL</th>\n",
       "      <th>us</th>\n",
       "    </tr>\n",
       "  </thead>\n",
       "  <tbody>\n",
       "    <tr>\n",
       "      <th>4</th>\n",
       "      <td>United States</td>\n",
       "      <td>2.743846</td>\n",
       "      <td>48863</td>\n",
       "      <td>B20</td>\n",
       "      <td>JV</td>\n",
       "      <td>Paid day laborers</td>\n",
       "      <td>2018</td>\n",
       "      <td>WORKERS</td>\n",
       "      <td>1</td>\n",
       "    </tr>\n",
       "    <tr>\n",
       "      <th>6</th>\n",
       "      <td>United States</td>\n",
       "      <td>7.798991</td>\n",
       "      <td>18824</td>\n",
       "      <td>B20</td>\n",
       "      <td>JX</td>\n",
       "      <td>Leased employees from leasing service or profe...</td>\n",
       "      <td>2018</td>\n",
       "      <td>WORKERS</td>\n",
       "      <td>1</td>\n",
       "    </tr>\n",
       "    <tr>\n",
       "      <th>5</th>\n",
       "      <td>United States</td>\n",
       "      <td>24.154033</td>\n",
       "      <td>94928</td>\n",
       "      <td>B20</td>\n",
       "      <td>JW</td>\n",
       "      <td>Temporary staffing obtained from a temporary h...</td>\n",
       "      <td>2018</td>\n",
       "      <td>WORKERS</td>\n",
       "      <td>1</td>\n",
       "    </tr>\n",
       "    <tr>\n",
       "      <th>7</th>\n",
       "      <td>United States</td>\n",
       "      <td>32.230151</td>\n",
       "      <td>815750</td>\n",
       "      <td>B20</td>\n",
       "      <td>JY</td>\n",
       "      <td>Contractors, subcontractors, independent contr...</td>\n",
       "      <td>2018</td>\n",
       "      <td>WORKERS</td>\n",
       "      <td>1</td>\n",
       "    </tr>\n",
       "    <tr>\n",
       "      <th>3</th>\n",
       "      <td>United States</td>\n",
       "      <td>42.869043</td>\n",
       "      <td>1222217</td>\n",
       "      <td>B20</td>\n",
       "      <td>JU</td>\n",
       "      <td>Part-time paid employees</td>\n",
       "      <td>2018</td>\n",
       "      <td>WORKERS</td>\n",
       "      <td>1</td>\n",
       "    </tr>\n",
       "    <tr>\n",
       "      <th>2</th>\n",
       "      <td>United States</td>\n",
       "      <td>48.132727</td>\n",
       "      <td>1835114</td>\n",
       "      <td>B20</td>\n",
       "      <td>JT</td>\n",
       "      <td>Full-time paid employees</td>\n",
       "      <td>2018</td>\n",
       "      <td>WORKERS</td>\n",
       "      <td>1</td>\n",
       "    </tr>\n",
       "  </tbody>\n",
       "</table>\n",
       "</div>"
      ],
      "text/plain": [
       "0           NAME  Number of Employees FIRMPDEMP QDESC BUSCHAR  \\\n",
       "4  United States             2.743846     48863   B20      JV   \n",
       "6  United States             7.798991     18824   B20      JX   \n",
       "5  United States            24.154033     94928   B20      JW   \n",
       "7  United States            32.230151    815750   B20      JY   \n",
       "3  United States            42.869043   1222217   B20      JU   \n",
       "2  United States            48.132727   1835114   B20      JT   \n",
       "\n",
       "0                                     Type of Worker  YEAR QDESC_LABEL us  \n",
       "4                                  Paid day laborers  2018     WORKERS  1  \n",
       "6  Leased employees from leasing service or profe...  2018     WORKERS  1  \n",
       "5  Temporary staffing obtained from a temporary h...  2018     WORKERS  1  \n",
       "7  Contractors, subcontractors, independent contr...  2018     WORKERS  1  \n",
       "3                           Part-time paid employees  2018     WORKERS  1  \n",
       "2                           Full-time paid employees  2018     WORKERS  1  "
      ]
     },
     "execution_count": 232,
     "metadata": {},
     "output_type": "execute_result"
    }
   ],
   "source": [
    "# CHARACTERISTICS OF BUSINESSES\n",
    "\n",
    "import pandas as pd\n",
    "import matplotlib as plt\n",
    "# MAKE SURE THERE ARE NO WHITE SPACES IN ANY VARIABLE STRINGS\n",
    "labels = 'NAME,EMP,FIRMPDEMP,QDESC,BUSCHAR,BUSCHAR_LABEL,YEAR'\n",
    "\n",
    "data_group = '&for=us'  # FOR ENTIRE USA\n",
    "#data_group = '&for=state' # FOR STATES\n",
    "\n",
    "\n",
    "description =f'&{data_group}*&QDESC_LABEL=WORKERS'\n",
    "API_key = '&key=1ba63b3df04e1bd07755febe18f836df1b86fc9f'\n",
    "\n",
    "df = pd.read_json(f'https://api.census.gov/data/2018/abscb?get={labels}{data_group}{description}{API_key}')\n",
    "new_header = df.iloc[0] #grab the first row for the header\n",
    "df = df[1:] #take the data after the header row\n",
    "df.columns = new_header #set the header row as the df header\n",
    "df['EMP'] = df['EMP'].astype(int)\n",
    "df = df.loc[(df['BUSCHAR_LABEL']!='None of the above') & (df['BUSCHAR_LABEL']!='Item not reported') & (df['BUSCHAR_LABEL']!='Total reporting') & (df['BUSCHAR_LABEL']!='All firms')]\n",
    "df['EMP'] = df['EMP'].apply(lambda x:float(x/1_000_000))\n",
    "df = df.rename(columns={'EMP':'Number of Employees', 'BUSCHAR_LABEL':'Type of Worker'})\n",
    "df = df.sort_values(by='Number of Employees', ascending=True)\n",
    "df"
   ]
  },
  {
   "cell_type": "code",
   "execution_count": 233,
   "metadata": {},
   "outputs": [
    {
     "data": {
      "text/plain": [
       "Text(0.5, 0, 'Number of Employees(Millions)')"
      ]
     },
     "execution_count": 233,
     "metadata": {},
     "output_type": "execute_result"
    },
    {
     "data": {
      "image/png": "[encoded data removed]",
      "text/plain": [
       "<Figure size 432x288 with 1 Axes>"
      ]
     },
     "metadata": {
      "needs_background": "light"
     },
     "output_type": "display_data"
    }
   ],
   "source": [
    "workers = df[['Number of Employees', 'Type of Worker']]\n",
    "ax= workers.plot.barh(x= 'Type of Worker', y= 'Number of Employees', title = 'Types of Workers')\n",
    "ax.set_ylabel('Type of Employees')\n",
    "ax.set_xlabel('Number of Employees(Millions)')"
   ]
  }
 ],
 "metadata": {
  "interpreter": {
   "hash": "31f2aee4e71d21fbe5cf8b01ff0e069b9275f58929596ceb00d14d90e3e16cd6"
  },
  "kernelspec": {
   "display_name": "Python 3.8.9 64-bit",
   "language": "python",
   "name": "python3"
  },
  "language_info": {
   "codemirror_mode": {
    "name": "ipython",
    "version": 3
   },
   "file_extension": ".py",
   "mimetype": "text/x-python",
   "name": "python",
   "nbconvert_exporter": "python",
   "pygments_lexer": "ipython3",
   "version": "3.9.7"
  },
  "orig_nbformat": 4
 },
 "nbformat": 4,
 "nbformat_minor": 2
}
